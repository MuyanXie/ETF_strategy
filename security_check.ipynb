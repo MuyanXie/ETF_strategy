{
 "cells": [
  {
   "cell_type": "code",
   "execution_count": 5,
   "metadata": {},
   "outputs": [],
   "source": [
    "def login_check(account:str, pwd:str):\n",
    "    from datetime import date\n",
    "    \n",
    "    fin = open(\"/Users/apple/Documents/Jupyter/ETF_quantitative_strategy/data/security.in\")\n",
    "    name_list = fin.readlines()\n",
    "    fin.close()\n",
    "    \n",
    "    fout = open(\"/Users/apple/Documents/Jupyter/ETF_quantitative_strategy/output/security_gateway.out\", \"w\")\n",
    "    \n",
    "    for line in range(len(name_list)):\n",
    "        name_list[line] = name_list[line].rstrip()\n",
    "    diction = {}\n",
    "    for i in name_list:\n",
    "        a,b = i.split()\n",
    "        diction[a] = b\n",
    "    try:\n",
    "        if diction[account] == pwd:\n",
    "            today = date.today()\n",
    "            d1 = today.strftime(\"%d/%m/%Y\")\n",
    "            fout.write(\"TRUE\"+\" \"+ d1)\n",
    "            fout.close()\n",
    "            print(\"Access Accepted\")\n",
    "        else:\n",
    "            fout.write(\"FALSE\")\n",
    "            fout.close()\n",
    "            print(\"Invalid Password,\", \"Access Denied\")\n",
    "    except:\n",
    "        fout.write(\"FALSE\")\n",
    "        fout.close()\n",
    "        print(\"Invalid Password,\", \"Access Denied\")\n",
    "        \n",
    "def regular_check():\n",
    "    fin = open(\"/Users/apple/Documents/Jupyter/ETF_quantitative_strategy/output/security_gateway.out\")\n",
    "    from datetime import date\n",
    "    today = date.today()\n",
    "    d1 = today.strftime(\"%d/%m/%Y\")\n",
    "    lista = fin.readline().split()\n",
    "    print(lista)\n",
    "    if lista[0] == \"TRUE\":\n",
    "        if lista[1] == d1:\n",
    "            return True\n",
    "    return False"
   ]
  },
  {
   "cell_type": "code",
   "execution_count": 7,
   "metadata": {},
   "outputs": [
    {
     "name": "stdout",
     "output_type": "stream",
     "text": [
      "Access Accepted\n"
     ]
    }
   ],
   "source": [
    "login_check(\"admin\",\"123\")"
   ]
  },
  {
   "cell_type": "code",
   "execution_count": null,
   "metadata": {},
   "outputs": [],
   "source": []
  },
  {
   "cell_type": "code",
   "execution_count": null,
   "metadata": {},
   "outputs": [],
   "source": []
  },
  {
   "cell_type": "code",
   "execution_count": null,
   "metadata": {},
   "outputs": [],
   "source": []
  },
  {
   "cell_type": "code",
   "execution_count": null,
   "metadata": {},
   "outputs": [],
   "source": []
  }
 ],
 "metadata": {
  "kernelspec": {
   "display_name": "Python 3",
   "language": "python",
   "name": "python3"
  },
  "language_info": {
   "codemirror_mode": {
    "name": "ipython",
    "version": 3
   },
   "file_extension": ".py",
   "mimetype": "text/x-python",
   "name": "python",
   "nbconvert_exporter": "python",
   "pygments_lexer": "ipython3",
   "version": "3.8.3"
  }
 },
 "nbformat": 4,
 "nbformat_minor": 4
}
