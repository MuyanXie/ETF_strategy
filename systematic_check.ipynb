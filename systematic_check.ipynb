{
 "cells": [
  {
   "cell_type": "code",
   "execution_count": 18,
   "metadata": {},
   "outputs": [],
   "source": [
    "def systematic_error_check():\n",
    "    flag = True\n",
    "    \n",
    "    # check if the name_list.in is the same size as the number of files contained in the data folder\n",
    "    import glob\n",
    "    config_file_number = len(glob.glob(\"/Users/apple/Documents/Jupyter/ETF_quantitative_strategy/data/*.in\"))\n",
    "    total_file_number = len(glob.glob(\"/Users/apple/Documents/Jupyter/ETF_quantitative_strategy/data/**\"))\n",
    "    fin = open(\"/Users/apple/Documents/Jupyter/ETF_quantitative_strategy/data/name_list.in\")\n",
    "    name_list = fin.readlines()\n",
    "    fin.close()\n",
    "    if len(name_list) != total_file_number - config_file_number:\n",
    "        flag = False\n",
    "        print(\"ERRInconsistent data file actually collected and documented in the name_list.in file, we record\",len(name_list), \"files but\", total_file_number-config_file_number, \"is actually collected\")\n",
    "\n",
    "    \n",
    "    return flag\n",
    "    print(config_file_number)"
   ]
  },
  {
   "cell_type": "code",
   "execution_count": 19,
   "metadata": {},
   "outputs": [
    {
     "name": "stdout",
     "output_type": "stream",
     "text": [
      "Inconsistent data file actually collected and documented in the name_list.in file, we record 1 files but 0 is actually collected\n"
     ]
    },
    {
     "data": {
      "text/plain": [
       "False"
      ]
     },
     "execution_count": 19,
     "metadata": {},
     "output_type": "execute_result"
    }
   ],
   "source": []
  },
  {
   "cell_type": "code",
   "execution_count": null,
   "metadata": {},
   "outputs": [],
   "source": []
  }
 ],
 "metadata": {
  "kernelspec": {
   "display_name": "Python 3",
   "language": "python",
   "name": "python3"
  },
  "language_info": {
   "codemirror_mode": {
    "name": "ipython",
    "version": 3
   },
   "file_extension": ".py",
   "mimetype": "text/x-python",
   "name": "python",
   "nbconvert_exporter": "python",
   "pygments_lexer": "ipython3",
   "version": "3.8.3"
  }
 },
 "nbformat": 4,
 "nbformat_minor": 4
}
