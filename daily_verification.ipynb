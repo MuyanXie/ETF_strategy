{
 "cells": [
  {
   "cell_type": "code",
   "execution_count": 18,
   "metadata": {},
   "outputs": [
    {
     "ename": "IndentationError",
     "evalue": "expected an indented block (<ipython-input-18-2abb23fd9393>, line 3)",
     "output_type": "error",
     "traceback": [
      "\u001b[0;36m  File \u001b[0;32m\"<ipython-input-18-2abb23fd9393>\"\u001b[0;36m, line \u001b[0;32m3\u001b[0m\n\u001b[0;31m    def get_vol(name: str, days: int):\u001b[0m\n\u001b[0m    ^\u001b[0m\n\u001b[0;31mIndentationError\u001b[0m\u001b[0;31m:\u001b[0m expected an indented block\n"
     ]
    }
   ],
   "source": [
    "#def get_MA(name : str):\n",
    "    \n",
    "def get_vol_10(name: str, days: int):\n",
    "    fin = open(Users/apple/Documents/Jupyter/ETF_quantitative_strategy/data/name_list.in)\n",
    "\n",
    "def check_name(name: str):\n",
    "    fin = open(\"/Users/apple/Documents/Jupyter/ETF_quantitative_strategy/data/name_list.in\")\n",
    "    name_list = fin.readlines()\n",
    "    fin.close()\n",
    "    for line in range(len(name_list)):\n",
    "        name_list[line] = name_list[line].rstrip()\n",
    "    return name in name_list"
   ]
  },
  {
   "cell_type": "code",
   "execution_count": null,
   "metadata": {},
   "outputs": [],
   "source": []
  },
  {
   "cell_type": "code",
   "execution_count": null,
   "metadata": {},
   "outputs": [],
   "source": []
  },
  {
   "cell_type": "code",
   "execution_count": null,
   "metadata": {},
   "outputs": [],
   "source": []
  }
 ],
 "metadata": {
  "kernelspec": {
   "display_name": "Python 3",
   "language": "python",
   "name": "python3"
  },
  "language_info": {
   "codemirror_mode": {
    "name": "ipython",
    "version": 3
   },
   "file_extension": ".py",
   "mimetype": "text/x-python",
   "name": "python",
   "nbconvert_exporter": "python",
   "pygments_lexer": "ipython3",
   "version": "3.8.3"
  }
 },
 "nbformat": 4,
 "nbformat_minor": 4
}
