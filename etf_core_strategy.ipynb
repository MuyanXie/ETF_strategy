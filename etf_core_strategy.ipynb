{
 "cells": [
  {
   "cell_type": "code",
   "execution_count": 1,
   "metadata": {},
   "outputs": [
    {
     "data": {
      "text/plain": [
       "'\\n510300.SS: 上证180ETF\\n510500.SS: 中证100ETF\\n159949.SS: 创业板50ETF\\n\\n'"
      ]
     },
     "execution_count": 1,
     "metadata": {},
     "output_type": "execute_result"
    }
   ],
   "source": [
    "\"\"\"\n",
    "510300.SS: 上证180ETF\n",
    "510500.SS: 中证100ETF\n",
    "159949.SS: 创业板50ETF\n",
    "\n",
    "\"\"\"\n",
    "\n"
   ]
  },
  {
   "cell_type": "code",
   "execution_count": 17,
   "metadata": {},
   "outputs": [
    {
     "name": "stdout",
     "output_type": "stream",
     "text": [
      "Account: admin\n",
      "Password: 123\n",
      "Access Accepted\n",
      "邮件发送成功\n"
     ]
    }
   ],
   "source": [
    "import sys\n",
    "sys.path.append('/Users/apple/Documents/Jupyter/ETF_quantitative_strategy/installed_code_repository')\n",
    "import installed_code_repository\n",
    "from automation_with_email import send\n",
    "from security_check import login_check, regular_check\n",
    "from data_collection_and_cleaning import get_data\n",
    "a = input(\"Account: \")\n",
    "b = input(\"Password: \")\n",
    "login_check(a,b)\n",
    "etfs = [\"510500.SS\", \"510300.SS\", \"159949.SS\"]\n",
    "\n",
    "for i in etfs:\n",
    "    get_data(i)\n",
    "\n",
    "import pandas as pd\n",
    "\n",
    "df1 = pd.read_csv(\"/Users/apple/Documents/Jupyter/ETF_quantitative_strategy/data/\"+\"510500.SS\"+\".csv\")\n",
    "df2 = pd.read_csv(\"/Users/apple/Documents/Jupyter/ETF_quantitative_strategy/data/\"+\"510300.SS\"+\".csv\")\n",
    "df3 = pd.read_csv(\"/Users/apple/Documents/Jupyter/ETF_quantitative_strategy/data/\"+\"159949.SS\"+\".csv\")\n",
    "dfs = [df1, df2, df3]\n",
    "\n",
    "def get_v_10(num, df):\n",
    "    count = 0\n",
    "    for i in range(num, num+10):\n",
    "        count += df.at[num, \"volume\"]\n",
    "    return count//10\n",
    "\n",
    "def get_advice(num, df):\n",
    "    ratio = df.at[num+1,\"close\"]/df.at[num+1,\"open\"]\n",
    "    if ratio < 1.03 and ratio > 0.98 and df.at[num+1, \"volume\"] < 3 * get_v_10(num+1, df):\n",
    "            return True\n",
    "    return False\n",
    "\n",
    "advices = [False, False, False]\n",
    "\n",
    "    \n",
    "for i in range(len(etfs)):\n",
    "    advices[i] = get_advice(0,dfs[i])\n",
    "sent = \"\"\n",
    "\n",
    "for i in range(len(etfs)):\n",
    "    sent += etfs[i] + \" \" + str(advices[i])+ \" based on data from \"+str(dfs[i].at[0,\"timestamp\"]) +\"\\r\\n\"\n",
    "    \n",
    "    \n",
    "\n",
    "if regular_check():\n",
    "    send(sent)\n",
    "else:\n",
    "    print(\"No authorization\")"
   ]
  },
  {
   "cell_type": "code",
   "execution_count": null,
   "metadata": {},
   "outputs": [],
   "source": []
  }
 ],
 "metadata": {
  "kernelspec": {
   "display_name": "Python 3",
   "language": "python",
   "name": "python3"
  },
  "language_info": {
   "codemirror_mode": {
    "name": "ipython",
    "version": 3
   },
   "file_extension": ".py",
   "mimetype": "text/x-python",
   "name": "python",
   "nbconvert_exporter": "python",
   "pygments_lexer": "ipython3",
   "version": "3.8.3"
  }
 },
 "nbformat": 4,
 "nbformat_minor": 4
}
