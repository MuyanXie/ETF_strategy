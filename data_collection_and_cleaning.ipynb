{
 "cells": [
  {
   "cell_type": "code",
   "execution_count": 1,
   "metadata": {},
   "outputs": [],
   "source": [
    "import pandas as pd\n",
    "import sys\n",
    "sys.path.append('/Users/apple/Documents/Jupyter/ETF_quantitative_strategy/installed_code_repository')\n",
    "import installed_code_repository\n",
    "from security_check import regular_check\n",
    "def get_data(name: str):\n",
    "    if not regular_check():\n",
    "        print(\"NO ROOT\")\n",
    "        return\n",
    "    try:\n",
    "        df = pd.read_csv(\"/Users/apple/Documents/Jupyter/ETF_quantitative_strategy/data/\"+name+\".csv\")\n",
    "\n",
    "        from datetime import date\n",
    "        today = date.today()\n",
    "        d1 = today.strftime(\"%Y-%m-%d\")\n",
    "        if df.at[0, \"timestamp\"] == d1:\n",
    "            print(\"data already exist\")\n",
    "            return\n",
    "    except:\n",
    "        a = 1\n",
    "        del a\n",
    "    string1 = \"https://www.alphavantage.co/query?function=TIME_SERIES_DAILY&symbol=\"\n",
    "    string2 = \"&apikey=J4743RUZXDBDJ2HS&datatype=csv\"\n",
    "    df = pd.read_csv(string1+name+string2)\n",
    "    df.to_csv(\"/Users/apple/Documents/Jupyter/ETF_quantitative_strategy/data/\"+name+\".csv\")"
   ]
  },
  {
   "cell_type": "code",
   "execution_count": null,
   "metadata": {},
   "outputs": [],
   "source": []
  },
  {
   "cell_type": "code",
   "execution_count": null,
   "metadata": {},
   "outputs": [],
   "source": []
  },
  {
   "cell_type": "code",
   "execution_count": null,
   "metadata": {},
   "outputs": [],
   "source": []
  },
  {
   "cell_type": "code",
   "execution_count": null,
   "metadata": {},
   "outputs": [],
   "source": []
  },
  {
   "cell_type": "code",
   "execution_count": null,
   "metadata": {},
   "outputs": [],
   "source": []
  },
  {
   "cell_type": "code",
   "execution_count": null,
   "metadata": {},
   "outputs": [],
   "source": []
  }
 ],
 "metadata": {
  "kernelspec": {
   "display_name": "Python 3",
   "language": "python",
   "name": "python3"
  },
  "language_info": {
   "codemirror_mode": {
    "name": "ipython",
    "version": 3
   },
   "file_extension": ".py",
   "mimetype": "text/x-python",
   "name": "python",
   "nbconvert_exporter": "python",
   "pygments_lexer": "ipython3",
   "version": "3.8.3"
  }
 },
 "nbformat": 4,
 "nbformat_minor": 4
}
